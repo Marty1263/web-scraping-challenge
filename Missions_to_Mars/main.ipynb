from splinter import Browser
from bs4 import BeautifulSoup
from webdriver_manager.chrome import ChromeDriverManager
import requests
import pandas as pd
executable_path = {'executable_path': ChromeDriverManager().install()}
browser = Browser('chrome', **executable_path, headless=False)
[WDM] - ====== WebDriver manager ======
[WDM] - Current google-chrome version is 102.0.5005
[WDM] - Get LATEST chromedriver version for 102.0.5005 google-chrome
[WDM] - About to download new driver from https://chromedriver.storage.googleapis.com/102.0.5005.61/chromedriver_mac64.zip
[WDM] - Driver has been saved in cache [/Users/user/.wdm/drivers/chromedriver/mac64/102.0.5005.61]
#URL of the page to be scraped
url_news = 'https://redplanetscience.com/'
browser.visit(url_news)
html_news = browser.html

# Create BeautifulSoup object; parse with 'html.parser'
soup = BeautifulSoup(html_news, 'html.parser')
news_container = soup.select_one('div', class_='list_text')
news_title = news_container.find('div', class_='content_title').text
news_body = news_container.find('div', class_='article_teaser_body').text
browser.quit()
#JPL Mars Space Images - Featured Image
executable_path = {'executable_path': ChromeDriverManager().install()}
browser = Browser('chrome', **executable_path, headless=False)

url_image = 'https://spaceimages-mars.com/'
browser.visit(url_image)
browser.links.find_by_partial_text('FULL IMAGE').click()
html_image = browser.html
image_soup = BeautifulSoup(html_image, 'html.parser')

featured_image = image_soup.find('img', class_='fancybox-image')['src']
featured_image_url = url_image + featured_image
browser.quit()
#Mars Facts
url_facts = 'https://galaxyfacts-mars.com/'
tables = pd.read_html(url_facts)
df = tables[0]
df.columns = df.iloc[0]
df = df[1:]
html_table = df.to_html('table.html')
#Mars Hemispheres
# executable_path = {'executable_path': ChromeDriverManager().install()}
# browser = Browser('chrome', **executable_path, headless=False)

hemisphere_url = 'https://marshemispheres.com/'
browser.visit(hemisphere_url)

hemisphere_image_urls = []
for x in range(0, 4):
    browser.find_by_css('img.thumb')[x].click()
    
    hemisphere_soup = BeautifulSoup(browser.html, 'html.parser')

    hemisphere_image = hemisphere_soup.find('img', class_='wide-image')['src']
    hemisphere_image_url = hemisphere_url + hemisphere_image
    
    hemisphere_title = hemisphere_soup.find('h2', class_='title').text
    
    title_and_url = {"title": hemisphere_title, 
                    "img_url": hemisphere_image_url}
    
    hemisphere_image_urls.append(title_and_url)
    
    browser.links.find_by_partial_text('Back').click()
hemisphere_image_urls
[{'title': 'Cerberus Hemisphere Enhanced',
  'img_url': 'https://marshemispheres.com/images/f5e372a36edfa389625da6d0cc25d905_cerberus_enhanced.tif_full.jpg'},
 {'title': 'Schiaparelli Hemisphere Enhanced',
  'img_url': 'https://marshemispheres.com/images/3778f7b43bbbc89d6e3cfabb3613ba93_schiaparelli_enhanced.tif_full.jpg'},
 {'title': 'Syrtis Major Hemisphere Enhanced',
  'img_url': 'https://marshemispheres.com/images/555e6403a6ddd7ba16ddb0e471cadcf7_syrtis_major_enhanced.tif_full.jpg'},
 {'title': 'Valles Marineris Hemisphere Enhanced',
  'img_url': 'https://marshemispheres.com/images/b3c7c6c9138f57b4756be9b9c43e3a48_valles_marineris_enhanced.tif_full.jpg'}]
browser.quit()
